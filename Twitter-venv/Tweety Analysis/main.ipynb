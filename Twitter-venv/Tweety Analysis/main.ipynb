{
 "cells": [
  {
   "cell_type": "markdown",
   "id": "e6ef1d48",
   "metadata": {},
   "source": [
    "pip install python-twitter"
   ]
  },
  {
   "cell_type": "markdown",
   "id": "3ef67c31",
   "metadata": {},
   "source": [
    "<h3>Importing all necessary module for twitter scrabbing </h3>"
   ]
  },
  {
   "cell_type": "code",
   "execution_count": 1,
   "id": "d859935f",
   "metadata": {},
   "outputs": [],
   "source": [
    "import sys\n",
    "import operator\n",
    "import requests\n",
    "import json\n",
    "import twitter\n",
    "import csv"
   ]
  },
  {
   "cell_type": "markdown",
   "id": "77653ce2",
   "metadata": {},
   "source": [
    "<h3> Creating variable to store twitter app details</h3>"
   ]
  },
  {
   "cell_type": "code",
   "execution_count": 2,
   "id": "076bfccf",
   "metadata": {},
   "outputs": [],
   "source": [
    "twitter_consumer_key=''\n",
    "twitter_consumer_secret =''\n",
    "twitter_access_token =''\n",
    "twitter_access_secret=''"
   ]
  },
  {
   "cell_type": "markdown",
   "id": "9500a66b",
   "metadata": {},
   "source": [
    "<h3>Authenticating Twitter with the variable created</h3>"
   ]
  },
  {
   "cell_type": "code",
   "execution_count": 3,
   "id": "708b130c",
   "metadata": {},
   "outputs": [],
   "source": [
    "twitter_api = twitter.Api(\n",
    "    consumer_key=twitter_consumer_key,\n",
    "    consumer_secret=twitter_consumer_secret,\n",
    "    access_token_key=twitter_access_token,\n",
    "    access_token_secret=twitter_access_secret\n",
    ")"
   ]
  },
  {
   "cell_type": "code",
   "execution_count": 4,
   "id": "fed579c5",
   "metadata": {},
   "outputs": [
    {
     "ename": "TwitterError",
     "evalue": "[{'message': 'You currently have access to Twitter API v2 endpoints and limited v1.1 endpoints only. If you need access to this endpoint, you may need a different access level. You can learn more here: https://developer.twitter.com/en/docs/twitter-api/getting-started/about-twitter-api#v2-access-leve', 'code': 453}]",
     "output_type": "error",
     "traceback": [
      "\u001b[1;31m---------------------------------------------------------------------------\u001b[0m",
      "\u001b[1;31mTwitterError\u001b[0m                              Traceback (most recent call last)",
      "Cell \u001b[1;32mIn[4], line 1\u001b[0m\n\u001b[1;32m----> 1\u001b[0m statuses \u001b[38;5;241m=\u001b[39m \u001b[43mtwitter_api\u001b[49m\u001b[38;5;241;43m.\u001b[39;49m\u001b[43mPostUpdate\u001b[49m\u001b[43m(\u001b[49m\u001b[38;5;124;43m'\u001b[39;49m\u001b[38;5;124;43mI love python-twitter!\u001b[39;49m\u001b[38;5;124;43m'\u001b[39;49m\u001b[43m)\u001b[49m\n\u001b[0;32m      2\u001b[0m \u001b[38;5;28mprint\u001b[39m(status\u001b[38;5;241m.\u001b[39mtext)\n",
      "File \u001b[1;32m~\\Documents\\PythonWorkspace\\PythonProjectTest\\first-project-venv\\Lib\\site-packages\\twitter\\api.py:1177\u001b[0m, in \u001b[0;36mApi.PostUpdate\u001b[1;34m(self, status, media, media_additional_owners, media_category, in_reply_to_status_id, auto_populate_reply_metadata, exclude_reply_user_ids, latitude, longitude, place_id, display_coordinates, trim_user, verify_status_length, attachment_url)\u001b[0m\n\u001b[0;32m   1174\u001b[0m     parameters[\u001b[38;5;124m'\u001b[39m\u001b[38;5;124mlong\u001b[39m\u001b[38;5;124m'\u001b[39m] \u001b[38;5;241m=\u001b[39m \u001b[38;5;28mstr\u001b[39m(longitude)\n\u001b[0;32m   1176\u001b[0m resp \u001b[38;5;241m=\u001b[39m \u001b[38;5;28mself\u001b[39m\u001b[38;5;241m.\u001b[39m_RequestUrl(url, \u001b[38;5;124m'\u001b[39m\u001b[38;5;124mPOST\u001b[39m\u001b[38;5;124m'\u001b[39m, data\u001b[38;5;241m=\u001b[39mparameters)\n\u001b[1;32m-> 1177\u001b[0m data \u001b[38;5;241m=\u001b[39m \u001b[38;5;28;43mself\u001b[39;49m\u001b[38;5;241;43m.\u001b[39;49m\u001b[43m_ParseAndCheckTwitter\u001b[49m\u001b[43m(\u001b[49m\u001b[43mresp\u001b[49m\u001b[38;5;241;43m.\u001b[39;49m\u001b[43mcontent\u001b[49m\u001b[38;5;241;43m.\u001b[39;49m\u001b[43mdecode\u001b[49m\u001b[43m(\u001b[49m\u001b[38;5;124;43m'\u001b[39;49m\u001b[38;5;124;43mutf-8\u001b[39;49m\u001b[38;5;124;43m'\u001b[39;49m\u001b[43m)\u001b[49m\u001b[43m)\u001b[49m\n\u001b[0;32m   1179\u001b[0m \u001b[38;5;28;01mreturn\u001b[39;00m Status\u001b[38;5;241m.\u001b[39mNewFromJsonDict(data)\n",
      "File \u001b[1;32m~\\Documents\\PythonWorkspace\\PythonProjectTest\\first-project-venv\\Lib\\site-packages\\twitter\\api.py:4908\u001b[0m, in \u001b[0;36mApi._ParseAndCheckTwitter\u001b[1;34m(self, json_data)\u001b[0m\n\u001b[0;32m   4906\u001b[0m         \u001b[38;5;28;01mraise\u001b[39;00m TwitterError({\u001b[38;5;124m'\u001b[39m\u001b[38;5;124mmessage\u001b[39m\u001b[38;5;124m'\u001b[39m: \u001b[38;5;124m\"\u001b[39m\u001b[38;5;124mUnauthorized\u001b[39m\u001b[38;5;124m\"\u001b[39m})\n\u001b[0;32m   4907\u001b[0m     \u001b[38;5;28;01mraise\u001b[39;00m TwitterError({\u001b[38;5;124m'\u001b[39m\u001b[38;5;124mUnknown error\u001b[39m\u001b[38;5;124m'\u001b[39m: \u001b[38;5;124m'\u001b[39m\u001b[38;5;132;01m{0}\u001b[39;00m\u001b[38;5;124m'\u001b[39m\u001b[38;5;241m.\u001b[39mformat(json_data)})\n\u001b[1;32m-> 4908\u001b[0m \u001b[38;5;28;43mself\u001b[39;49m\u001b[38;5;241;43m.\u001b[39;49m\u001b[43m_CheckForTwitterError\u001b[49m\u001b[43m(\u001b[49m\u001b[43mdata\u001b[49m\u001b[43m)\u001b[49m\n\u001b[0;32m   4909\u001b[0m \u001b[38;5;28;01mreturn\u001b[39;00m data\n",
      "File \u001b[1;32m~\\Documents\\PythonWorkspace\\PythonProjectTest\\first-project-venv\\Lib\\site-packages\\twitter\\api.py:4928\u001b[0m, in \u001b[0;36mApi._CheckForTwitterError\u001b[1;34m(data)\u001b[0m\n\u001b[0;32m   4926\u001b[0m     \u001b[38;5;28;01mraise\u001b[39;00m TwitterError(data[\u001b[38;5;124m'\u001b[39m\u001b[38;5;124merror\u001b[39m\u001b[38;5;124m'\u001b[39m])\n\u001b[0;32m   4927\u001b[0m \u001b[38;5;28;01mif\u001b[39;00m \u001b[38;5;124m'\u001b[39m\u001b[38;5;124merrors\u001b[39m\u001b[38;5;124m'\u001b[39m \u001b[38;5;129;01min\u001b[39;00m data:\n\u001b[1;32m-> 4928\u001b[0m     \u001b[38;5;28;01mraise\u001b[39;00m TwitterError(data[\u001b[38;5;124m'\u001b[39m\u001b[38;5;124merrors\u001b[39m\u001b[38;5;124m'\u001b[39m])\n",
      "\u001b[1;31mTwitterError\u001b[0m: [{'message': 'You currently have access to Twitter API v2 endpoints and limited v1.1 endpoints only. If you need access to this endpoint, you may need a different access level. You can learn more here: https://developer.twitter.com/en/docs/twitter-api/getting-started/about-twitter-api#v2-access-leve', 'code': 453}]"
     ]
    }
   ],
   "source": [
    "statuses = twitter_api.PostUpdate('I love python-twitter!')\n",
    "print(status.text)"
   ]
  },
  {
   "cell_type": "code",
   "execution_count": null,
   "id": "ed709828",
   "metadata": {},
   "outputs": [],
   "source": [
    "statuses = twitter_api.GetUserTimeline(61849)\n",
    "print(statuses)"
   ]
  },
  {
   "cell_type": "markdown",
   "id": "337f2960",
   "metadata": {},
   "source": [
    "<h3>Specifiing Handle to pull</h3>"
   ]
  },
  {
   "cell_type": "code",
   "execution_count": null,
   "id": "4bedeba0",
   "metadata": {},
   "outputs": [],
   "source": [
    "handle ='[taobakoyauk]'"
   ]
  },
  {
   "cell_type": "markdown",
   "id": "9469c6cd",
   "metadata": {},
   "source": [
    "<h3> Using the API, we retrieve tweets on that handles</h3>"
   ]
  },
  {
   "cell_type": "code",
   "execution_count": null,
   "id": "3e12820e",
   "metadata": {},
   "outputs": [],
   "source": [
    "statuses = twitter_api.GetUserTimeline(screen_name=handle, include_rts=False)"
   ]
  },
  {
   "cell_type": "markdown",
   "id": "b8bceecc",
   "metadata": {},
   "source": [
    "<h3> Process tweet</h3>"
   ]
  },
  {
   "cell_type": "code",
   "execution_count": null,
   "id": "770e1a8b",
   "metadata": {},
   "outputs": [],
   "source": [
    "for status in statuses:\n",
    "    print(status.text)"
   ]
  },
  {
   "cell_type": "markdown",
   "id": "5fb8704d",
   "metadata": {},
   "source": [
    "<h3>Retrieving Hashtags</h3>"
   ]
  },
  {
   "cell_type": "code",
   "execution_count": null,
   "id": "120c2841",
   "metadata": {},
   "outputs": [],
   "source": [
    "hashtags_to_track = '[Some hashtag]'\n",
    "stream = twitter_api.GetStreamFilter (track = hashtags_to_track)\n",
    "for line in stream:\n",
    "    if 'in_reply_to_status_id' in line:\n",
    "        tweet = twitter.Status.NewFromJsonDict(line)\n",
    "        user = tweet.user.screen_name\n",
    "        tweet_text = tweet.text\n",
    "        print('User: ' + user[0] + '\\t Tweet: ' + tweet_text + '\\n')"
   ]
  },
  {
   "cell_type": "markdown",
   "id": "ceccb644",
   "metadata": {},
   "source": [
    "<h3>Converting JSON to CSV</h3>"
   ]
  },
  {
   "cell_type": "code",
   "execution_count": null,
   "id": "ff8f25ec",
   "metadata": {},
   "outputs": [],
   "source": [
    "with open('tweets.csv', 'w+') as csv_file:\n",
    "    csv_writer = csv.writer(csv_file)\n",
    "    for line in stream:\n",
    "        if 'in_reply_to_status_id' in line:\n",
    "            tweet = twitter.Status.NewFromJsonDict(line)\n",
    "            print(tweet.id)\n",
    "            row = [tweet.id, tweet.user.screen_name, tweet.text]\n",
    "            csv_writer.writerow(row)"
   ]
  }
 ],
 "metadata": {
  "kernelspec": {
   "display_name": "Python 3 (ipykernel)",
   "language": "python",
   "name": "python3"
  },
  "language_info": {
   "codemirror_mode": {
    "name": "ipython",
    "version": 3
   },
   "file_extension": ".py",
   "mimetype": "text/x-python",
   "name": "python",
   "nbconvert_exporter": "python",
   "pygments_lexer": "ipython3",
   "version": "3.11.3"
  }
 },
 "nbformat": 4,
 "nbformat_minor": 5
}
