{
 "cells": [
  {
   "cell_type": "markdown",
   "id": "8c538ae2",
   "metadata": {},
   "source": [
    "pip install python-twitter"
   ]
  },
  {
   "cell_type": "markdown",
   "id": "3ef67c31",
   "metadata": {},
   "source": [
    "<h3>Importing all necessary module for twitter scrabbing </h3>"
   ]
  },
  {
   "cell_type": "code",
   "execution_count": 1,
   "id": "d859935f",
   "metadata": {},
   "outputs": [],
   "source": [
    "import sys\n",
    "import operator\n",
    "import requests\n",
    "import json\n",
    "import twitter\n",
    "import csv"
   ]
  },
  {
   "cell_type": "markdown",
   "id": "77653ce2",
   "metadata": {},
   "source": [
    "<h3> Creating variable to store twitter app details</h3>"
   ]
  },
  {
   "cell_type": "code",
   "execution_count": 2,
   "id": "076bfccf",
   "metadata": {},
   "outputs": [],
   "source": [
    "twitter_consumer_key=''\n",
    "twitter_consumer_secret =''\n",
    "twitter_access_token =''\n",
    "twitter_access_secret=''"
   ]
  },
  {
   "cell_type": "markdown",
   "id": "9500a66b",
   "metadata": {},
   "source": [
    "<h3>Authenticating Twitter with the variable created</h3>"
   ]
  },
  {
   "cell_type": "code",
   "execution_count": 10,
   "id": "708b130c",
   "metadata": {},
   "outputs": [],
   "source": [
    "twitter_api = twitter.Api(\n",
    "    consumer_key=twitter_consumer_key,\n",
    "    consumer_secret=twitter_consumer_secret,\n",
    "    access_token_key=twitter_access_token,\n",
    "    access_token_secret=twitter_access_secret\n",
    ")"
   ]
  },
  {
   "cell_type": "markdown",
   "id": "337f2960",
   "metadata": {},
   "source": [
    "<h3>Specifiing Handle to pull</h3>"
   ]
  },
  {
   "cell_type": "code",
   "execution_count": null,
   "id": "4bedeba0",
   "metadata": {},
   "outputs": [],
   "source": [
    "handle ='[Twitter handle of the user you want to retrieve tweets from, without @]'"
   ]
  },
  {
   "cell_type": "markdown",
   "id": "9469c6cd",
   "metadata": {},
   "source": [
    "<h3> Using the API, we retrieve tweets on that handles</h3>"
   ]
  },
  {
   "cell_type": "code",
   "execution_count": null,
   "id": "3e12820e",
   "metadata": {},
   "outputs": [],
   "source": [
    "statuses = twitter_api.GetUserTimeline(screen_name=handle, count=200, include_rts=False)"
   ]
  },
  {
   "cell_type": "markdown",
   "id": "b8bceecc",
   "metadata": {},
   "source": [
    "<h3> Process tweet</h3>"
   ]
  },
  {
   "cell_type": "code",
   "execution_count": null,
   "id": "770e1a8b",
   "metadata": {},
   "outputs": [],
   "source": [
    "for status in statuses:\n",
    "    print(status.text)"
   ]
  },
  {
   "cell_type": "markdown",
   "id": "5fb8704d",
   "metadata": {},
   "source": [
    "<h3>Retrieving Hashtags</h3>"
   ]
  },
  {
   "cell_type": "code",
   "execution_count": null,
   "id": "120c2841",
   "metadata": {},
   "outputs": [],
   "source": [
    "hashtags_to_track = '[Some hashtag]'\n",
    "stream = twitter_api.GetStreamFilter (track = hashtags_to_track)\n",
    "for line in stream:\n",
    "    if 'in_reply_to_status_id' in line:\n",
    "        tweet = twitter.Status.NewFromJsonDict(line)\n",
    "        user = tweet.user.screen_name\n",
    "        tweet_text = tweet.text\n",
    "        print('User: ' + user[0] + '\\t Tweet: ' + tweet_text + '\\n')"
   ]
  },
  {
   "cell_type": "markdown",
   "id": "ceccb644",
   "metadata": {},
   "source": [
    "<h3>Converting JSON to CSV</h3>"
   ]
  },
  {
   "cell_type": "code",
   "execution_count": null,
   "id": "ff8f25ec",
   "metadata": {},
   "outputs": [],
   "source": [
    "with open('tweets.csv', 'w+') as csv_file:\n",
    "    csv_writer = csv.writer(csv_file)\n",
    "    for line in stream:\n",
    "        if 'in_reply_to_status_id' in line:\n",
    "            tweet = twitter.Status.NewFromJsonDict(line)\n",
    "            print(tweet.id)\n",
    "            row = [tweet.id, tweet.user.screen_name, tweet.text]\n",
    "            csv_writer.writerow(row)"
   ]
  }
 ],
 "metadata": {
  "kernelspec": {
   "display_name": "Python 3 (ipykernel)",
   "language": "python",
   "name": "python3"
  },
  "language_info": {
   "codemirror_mode": {
    "name": "ipython",
    "version": 3
   },
   "file_extension": ".py",
   "mimetype": "text/x-python",
   "name": "python",
   "nbconvert_exporter": "python",
   "pygments_lexer": "ipython3",
   "version": "3.11.3"
  }
 },
 "nbformat": 4,
 "nbformat_minor": 5
}
